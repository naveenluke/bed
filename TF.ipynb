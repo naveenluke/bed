{
  "nbformat": 4,
  "nbformat_minor": 0,
  "metadata": {
    "colab": {
      "name": "TF.ipynb",
      "version": "0.3.2",
      "provenance": [],
      "collapsed_sections": [],
      "include_colab_link": true
    },
    "kernelspec": {
      "name": "python3",
      "display_name": "Python 3"
    }
  },
  "cells": [
    {
      "cell_type": "markdown",
      "metadata": {
        "id": "view-in-github",
        "colab_type": "text"
      },
      "source": [
        "<a href=\"https://colab.research.google.com/github/naveenluke/bed/blob/master/TF.ipynb\" target=\"_parent\"><img src=\"https://colab.research.google.com/assets/colab-badge.svg\" alt=\"Open In Colab\"/></a>"
      ]
    },
    {
      "cell_type": "code",
      "metadata": {
        "id": "6pm-Ig6OW3LU",
        "colab_type": "code",
        "outputId": "183b35b8-30a2-42df-a185-a3c4417ce1b8",
        "cellView": "both",
        "colab": {
          "base_uri": "https://localhost:8080/",
          "height": 2790
        }
      },
      "source": [
        "#@title\n",
        "!wget -c https://repo.anaconda.com/miniconda/Miniconda3-4.5.4-Linux-x86_64.sh\n",
        "!chmod +x Miniconda3-4.5.4-Linux-x86_64.sh\n",
        "!bash ./Miniconda3-4.5.4-Linux-x86_64.sh -b -f -p /usr/local\n",
        "!conda install -q -y --prefix /usr/local -c bioconda pybedtools ucsc-bigwigtobedgraph\n",
        "import sys\n",
        "sys.path.append('/usr/local/lib/python3.6/site-packages/')"
      ],
      "execution_count": 0,
      "outputs": [
        {
          "output_type": "stream",
          "text": [
            "--2019-06-17 02:52:06--  https://repo.anaconda.com/miniconda/Miniconda3-4.5.4-Linux-x86_64.sh\n",
            "Resolving repo.anaconda.com (repo.anaconda.com)... 104.16.131.3, 104.16.130.3, 2606:4700::6810:8303, ...\n",
            "Connecting to repo.anaconda.com (repo.anaconda.com)|104.16.131.3|:443... connected.\n",
            "HTTP request sent, awaiting response... 200 OK\n",
            "Length: 58468498 (56M) [application/x-sh]\n",
            "Saving to: ‘Miniconda3-4.5.4-Linux-x86_64.sh’\n",
            "\n",
            "Miniconda3-4.5.4-Li 100%[===================>]  55.76M  60.1MB/s    in 0.9s    \n",
            "\n",
            "2019-06-17 02:52:07 (60.1 MB/s) - ‘Miniconda3-4.5.4-Linux-x86_64.sh’ saved [58468498/58468498]\n",
            "\n",
            "PREFIX=/usr/local\n",
            "installing: python-3.6.5-hc3d631a_2 ...\n",
            "Python 3.6.5 :: Anaconda, Inc.\n",
            "installing: ca-certificates-2018.03.07-0 ...\n",
            "installing: conda-env-2.6.0-h36134e3_1 ...\n",
            "installing: libgcc-ng-7.2.0-hdf63c60_3 ...\n",
            "installing: libstdcxx-ng-7.2.0-hdf63c60_3 ...\n",
            "installing: libffi-3.2.1-hd88cf55_4 ...\n",
            "installing: ncurses-6.1-hf484d3e_0 ...\n",
            "installing: openssl-1.0.2o-h20670df_0 ...\n",
            "installing: tk-8.6.7-hc745277_3 ...\n",
            "installing: xz-5.2.4-h14c3975_4 ...\n",
            "installing: yaml-0.1.7-had09818_2 ...\n",
            "installing: zlib-1.2.11-ha838bed_2 ...\n",
            "installing: libedit-3.1.20170329-h6b74fdf_2 ...\n",
            "installing: readline-7.0-ha6073c6_4 ...\n",
            "installing: sqlite-3.23.1-he433501_0 ...\n",
            "installing: asn1crypto-0.24.0-py36_0 ...\n",
            "installing: certifi-2018.4.16-py36_0 ...\n",
            "installing: chardet-3.0.4-py36h0f667ec_1 ...\n",
            "installing: idna-2.6-py36h82fb2a8_1 ...\n",
            "installing: pycosat-0.6.3-py36h0a5515d_0 ...\n",
            "installing: pycparser-2.18-py36hf9f622e_1 ...\n",
            "installing: pysocks-1.6.8-py36_0 ...\n",
            "installing: ruamel_yaml-0.15.37-py36h14c3975_2 ...\n",
            "installing: six-1.11.0-py36h372c433_1 ...\n",
            "installing: cffi-1.11.5-py36h9745a5d_0 ...\n",
            "installing: setuptools-39.2.0-py36_0 ...\n",
            "installing: cryptography-2.2.2-py36h14c3975_0 ...\n",
            "installing: wheel-0.31.1-py36_0 ...\n",
            "installing: pip-10.0.1-py36_0 ...\n",
            "installing: pyopenssl-18.0.0-py36_0 ...\n",
            "installing: urllib3-1.22-py36hbe7ace6_0 ...\n",
            "installing: requests-2.18.4-py36he2e5f8d_1 ...\n",
            "installing: conda-4.5.4-py36_0 ...\n",
            "installation finished.\n",
            "WARNING:\n",
            "    You currently have a PYTHONPATH environment variable set. This may cause\n",
            "    unexpected behavior when running the Python interpreter in Miniconda3.\n",
            "    For best results, please verify that your PYTHONPATH only points to\n",
            "    directories of packages that are compatible with the Python interpreter\n",
            "    in Miniconda3: /usr/local\n",
            "Solving environment: ...working... done\n",
            "\n",
            "## Package Plan ##\n",
            "\n",
            "  environment location: /usr/local\n",
            "\n",
            "  added / updated specs: \n",
            "    - pybedtools\n",
            "    - ucsc-bigwigtobedgraph\n",
            "\n",
            "\n",
            "The following packages will be downloaded:\n",
            "\n",
            "    package                    |            build\n",
            "    ---------------------------|-----------------\n",
            "    python-3.6.8               |       h0371630_0        34.4 MB\n",
            "    libgcc-7.2.0               |       h69d50b8_2         304 KB\n",
            "    mkl_random-1.0.2           |   py36hd81dba3_0         407 KB\n",
            "    pandas-0.24.2              |   py36he6710b0_0        11.1 MB\n",
            "    libstdcxx-ng-9.1.0         |       hdf63c60_0         4.0 MB\n",
            "    pytz-2019.1                |             py_0         236 KB\n",
            "    openssl-1.1.1c             |       h7b6447c_1         3.8 MB\n",
            "    libpng-1.6.37              |       hbc83047_0         364 KB\n",
            "    libcurl-7.64.1             |       h20c2e04_0         582 KB\n",
            "    sqlite-3.26.0              |       h7b6447c_0         1.9 MB\n",
            "    ca-certificates-2019.5.15  |                0         133 KB\n",
            "    mkl-2019.4                 |              243       204.1 MB\n",
            "    ucsc-bigwigtobedgraph-357  |                1         972 KB  bioconda\n",
            "    libdeflate-1.0             |       h14c3975_1          43 KB  bioconda\n",
            "    curl-7.64.1                |       hbc83047_0         138 KB\n",
            "    libgcc-ng-9.1.0            |       hdf63c60_0         8.1 MB\n",
            "    mkl_fft-1.0.12             |   py36ha843d7b_0         172 KB\n",
            "    htslib-1.9                 |       ha228f0b_7         1.5 MB  bioconda\n",
            "    bedtools-2.28.0            |       hdf88d34_0        11.7 MB  bioconda\n",
            "    certifi-2019.3.9           |           py36_0         155 KB\n",
            "    python-dateutil-2.8.0      |           py36_0         281 KB\n",
            "    pybedtools-0.8.0           |   py36he860b03_1        12.1 MB  bioconda\n",
            "    cryptography-2.7           |   py36h1ba5d50_0         617 KB\n",
            "    samtools-1.9               |      h8571acd_11         636 KB  bioconda\n",
            "    mysql-connector-c-6.1.6    |                2         9.6 MB  bioconda\n",
            "    pysam-0.15.2               |   py36h4b7d16d_3         2.2 MB  bioconda\n",
            "    conda-4.6.14               |           py36_0         2.1 MB\n",
            "    bzip2-1.0.6                |       h14c3975_5         414 KB\n",
            "    numpy-base-1.16.4          |   py36hde5b4d6_0         4.4 MB\n",
            "    libgfortran-ng-7.3.0       |       hdf63c60_0         1.3 MB\n",
            "    krb5-1.16.1                |       h173b8e3_7         1.4 MB\n",
            "    numpy-1.16.4               |   py36h7e9f1db_0          49 KB\n",
            "    intel-openmp-2019.4        |              243         876 KB\n",
            "    libuuid-1.0.3              |       h1bed415_2          16 KB\n",
            "    bcftools-1.9               |       ha228f0b_4         807 KB  bioconda\n",
            "    libssh2-1.8.2              |       h1ba5d50_0         250 KB\n",
            "    tk-8.6.8                   |       hbc83047_0         3.1 MB\n",
            "    blas-1.0                   |              mkl           6 KB\n",
            "    ------------------------------------------------------------\n",
            "                                           Total:       324.0 MB\n",
            "\n",
            "The following NEW packages will be INSTALLED:\n",
            "\n",
            "    bcftools:              1.9-ha228f0b_4        bioconda\n",
            "    bedtools:              2.28.0-hdf88d34_0     bioconda\n",
            "    blas:                  1.0-mkl                       \n",
            "    bzip2:                 1.0.6-h14c3975_5              \n",
            "    curl:                  7.64.1-hbc83047_0             \n",
            "    htslib:                1.9-ha228f0b_7        bioconda\n",
            "    intel-openmp:          2019.4-243                    \n",
            "    krb5:                  1.16.1-h173b8e3_7             \n",
            "    libcurl:               7.64.1-h20c2e04_0             \n",
            "    libdeflate:            1.0-h14c3975_1        bioconda\n",
            "    libgcc:                7.2.0-h69d50b8_2              \n",
            "    libgfortran-ng:        7.3.0-hdf63c60_0              \n",
            "    libpng:                1.6.37-hbc83047_0             \n",
            "    libssh2:               1.8.2-h1ba5d50_0              \n",
            "    libuuid:               1.0.3-h1bed415_2              \n",
            "    mkl:                   2019.4-243                    \n",
            "    mkl_fft:               1.0.12-py36ha843d7b_0         \n",
            "    mkl_random:            1.0.2-py36hd81dba3_0          \n",
            "    mysql-connector-c:     6.1.6-2               bioconda\n",
            "    numpy:                 1.16.4-py36h7e9f1db_0         \n",
            "    numpy-base:            1.16.4-py36hde5b4d6_0         \n",
            "    pandas:                0.24.2-py36he6710b0_0         \n",
            "    pybedtools:            0.8.0-py36he860b03_1  bioconda\n",
            "    pysam:                 0.15.2-py36h4b7d16d_3 bioconda\n",
            "    python-dateutil:       2.8.0-py36_0                  \n",
            "    pytz:                  2019.1-py_0                   \n",
            "    samtools:              1.9-h8571acd_11       bioconda\n",
            "    ucsc-bigwigtobedgraph: 357-1                 bioconda\n",
            "\n",
            "The following packages will be UPDATED:\n",
            "\n",
            "    ca-certificates:       2018.03.07-0                   --> 2019.5.15-0       \n",
            "    certifi:               2018.4.16-py36_0               --> 2019.3.9-py36_0   \n",
            "    conda:                 4.5.4-py36_0                   --> 4.6.14-py36_0     \n",
            "    cryptography:          2.2.2-py36h14c3975_0           --> 2.7-py36h1ba5d50_0\n",
            "    libgcc-ng:             7.2.0-hdf63c60_3               --> 9.1.0-hdf63c60_0  \n",
            "    libstdcxx-ng:          7.2.0-hdf63c60_3               --> 9.1.0-hdf63c60_0  \n",
            "    openssl:               1.0.2o-h20670df_0              --> 1.1.1c-h7b6447c_1 \n",
            "    python:                3.6.5-hc3d631a_2               --> 3.6.8-h0371630_0  \n",
            "    sqlite:                3.23.1-he433501_0              --> 3.26.0-h7b6447c_0 \n",
            "    tk:                    8.6.7-hc745277_3               --> 8.6.8-hbc83047_0  \n",
            "\n",
            "Preparing transaction: ...working... done\n",
            "Verifying transaction: ...working... done\n",
            "Executing transaction: ...working... done\n"
          ],
          "name": "stdout"
        }
      ]
    },
    {
      "cell_type": "code",
      "metadata": {
        "id": "phXA-iJxbkF9",
        "colab_type": "code",
        "colab": {}
      },
      "source": [
        ""
      ],
      "execution_count": 0,
      "outputs": []
    },
    {
      "cell_type": "code",
      "metadata": {
        "id": "kjmHngWgZOl1",
        "colab_type": "code",
        "outputId": "5b3f1c7c-efc7-46d7-9c7f-8f68b8a79de6",
        "colab": {
          "base_uri": "https://localhost:8080/",
          "height": 105
        }
      },
      "source": [
        "!conda install -q -y --prefix /usr/local -c bioconda ucsc-bigwigtobedgraph\n",
        "import sys\n",
        "sys.path.append('/usr/local/lib/python3.6/site-packages/')"
      ],
      "execution_count": 0,
      "outputs": [
        {
          "output_type": "stream",
          "text": [
            "Collecting package metadata: ...working... done\n",
            "Solving environment: ...working... done\n",
            "\n",
            "# All requested packages already installed.\n",
            "\n"
          ],
          "name": "stdout"
        }
      ]
    },
    {
      "cell_type": "code",
      "metadata": {
        "id": "qlP7CeGRW-KS",
        "colab_type": "code",
        "colab": {}
      },
      "source": [
        "import pybedtools"
      ],
      "execution_count": 0,
      "outputs": []
    },
    {
      "cell_type": "code",
      "metadata": {
        "id": "OUE8dr3DXXrV",
        "colab_type": "code",
        "outputId": "9a4a9ee9-7457-4aed-8187-7ff6db7eab6a",
        "colab": {
          "base_uri": "https://localhost:8080/",
          "height": 1581
        }
      },
      "source": [
        "#H1-hESC Pol2 v041610.2 ChIP-seq Peaks Rep 1 from ENCODE/HAIB\n",
        "!wget http://hgdownload.cse.ucsc.edu/goldenPath/hg19/encodeDCC/wgEncodeHaibTfbs/wgEncodeHaibTfbsH1hescPol2V0416102PkRep1.broadPeak.gz\n",
        "#H1-hESC Pol2 v041610.2 ChIP-seq Raw Signal Rep 1 from ENCODE/HAIB\n",
        "!wget http://hgdownload.cse.ucsc.edu/goldenPath/hg19/encodeDCC/wgEncodeHaibTfbs/wgEncodeHaibTfbsH1hescPol2V0416102RawRep1.bigWig\n",
        "#H1-hESC Pol2 v041610.2 ChIP-seq Peaks Rep 2 from ENCODE/HAIB\n",
        "!wget http://hgdownload.cse.ucsc.edu/goldenPath/hg19/encodeDCC/wgEncodeHaibTfbs/wgEncodeHaibTfbsH1hescPol2V0416102PkRep2.broadPeak.gz\n",
        "#H1-hESC Pol2 v041610.2 ChIP-seq Raw Signal Rep 2 from ENCODE/HAIB\n",
        "!wget http://hgdownload.cse.ucsc.edu/goldenPath/hg19/encodeDCC/wgEncodeHaibTfbs/wgEncodeHaibTfbsH1hescPol2V0416102RawRep2.bigWig\n",
        "#H1-hESC Pol2-4H8 v041610.2 ChIP-seq Peaks Rep 1 from ENCODE/HAIB\n",
        "!wget http://hgdownload.cse.ucsc.edu/goldenPath/hg19/encodeDCC/wgEncodeHaibTfbs/wgEncodeHaibTfbsH1hescPol24h8V0416102PkRep1.broadPeak.gz\n",
        "#H1-hESC Pol2-4H8 v041610.2 ChIP-seq Raw Signal Rep 1 from ENCODE/HAIB\n",
        "!wget http://hgdownload.cse.ucsc.edu/goldenPath/hg19/encodeDCC/wgEncodeHaibTfbs/wgEncodeHaibTfbsH1hescPol24h8V0416102RawRep1.bigWig\n",
        "#H1-hESC Pol2-4H8 v041610.2 ChIP-seq Peaks Rep 2 from ENCODE/HAIB\n",
        "!wget http://hgdownload.cse.ucsc.edu/goldenPath/hg19/encodeDCC/wgEncodeHaibTfbs/wgEncodeHaibTfbsH1hescPol24h8V0416102PkRep2.broadPeak.gz\n",
        "#H1-hESC Pol2-4H8 v041610.2 ChIP-seq Raw Signal Rep 2 from ENCODE/HAIB\n",
        "!wget http://hgdownload.cse.ucsc.edu/goldenPath/hg19/encodeDCC/wgEncodeHaibTfbs/wgEncodeHaibTfbsH1hescPol24h8V0416102RawRep2.bigWig\n"
      ],
      "execution_count": 0,
      "outputs": [
        {
          "output_type": "stream",
          "text": [
            "--2019-06-17 02:56:35--  http://hgdownload.cse.ucsc.edu/goldenPath/hg19/encodeDCC/wgEncodeHaibTfbs/wgEncodeHaibTfbsH1hescPol2V0416102PkRep1.broadPeak.gz\n",
            "Resolving hgdownload.cse.ucsc.edu (hgdownload.cse.ucsc.edu)... 128.114.119.163\n",
            "Connecting to hgdownload.cse.ucsc.edu (hgdownload.cse.ucsc.edu)|128.114.119.163|:80... connected.\n",
            "HTTP request sent, awaiting response... 200 OK\n",
            "Length: 533909 (521K) [application/x-gzip]\n",
            "Saving to: ‘wgEncodeHaibTfbsH1hescPol2V0416102PkRep1.broadPeak.gz’\n",
            "\n",
            "wgEncodeHaibTfbsH1h 100%[===================>] 521.40K   379KB/s    in 1.4s    \n",
            "\n",
            "2019-06-17 02:56:37 (379 KB/s) - ‘wgEncodeHaibTfbsH1hescPol2V0416102PkRep1.broadPeak.gz’ saved [533909/533909]\n",
            "\n",
            "--2019-06-17 02:56:39--  http://hgdownload.cse.ucsc.edu/goldenPath/hg19/encodeDCC/wgEncodeHaibTfbs/wgEncodeHaibTfbsH1hescPol2V0416102RawRep1.bigWig\n",
            "Resolving hgdownload.cse.ucsc.edu (hgdownload.cse.ucsc.edu)... 128.114.119.163\n",
            "Connecting to hgdownload.cse.ucsc.edu (hgdownload.cse.ucsc.edu)|128.114.119.163|:80... connected.\n",
            "HTTP request sent, awaiting response... 200 OK\n",
            "Length: 63823735 (61M) [text/plain]\n",
            "Saving to: ‘wgEncodeHaibTfbsH1hescPol2V0416102RawRep1.bigWig’\n",
            "\n",
            "wgEncodeHaibTfbsH1h 100%[===================>]  60.87M  11.0MB/s    in 11s     \n",
            "\n",
            "2019-06-17 02:56:50 (5.41 MB/s) - ‘wgEncodeHaibTfbsH1hescPol2V0416102RawRep1.bigWig’ saved [63823735/63823735]\n",
            "\n",
            "--2019-06-17 02:56:51--  http://hgdownload.cse.ucsc.edu/goldenPath/hg19/encodeDCC/wgEncodeHaibTfbs/wgEncodeHaibTfbsH1hescPol2V0416102PkRep2.broadPeak.gz\n",
            "Resolving hgdownload.cse.ucsc.edu (hgdownload.cse.ucsc.edu)... 128.114.119.163\n",
            "Connecting to hgdownload.cse.ucsc.edu (hgdownload.cse.ucsc.edu)|128.114.119.163|:80... connected.\n",
            "HTTP request sent, awaiting response... 200 OK\n",
            "Length: 660137 (645K) [application/x-gzip]\n",
            "Saving to: ‘wgEncodeHaibTfbsH1hescPol2V0416102PkRep2.broadPeak.gz’\n",
            "\n",
            "wgEncodeHaibTfbsH1h 100%[===================>] 644.67K   468KB/s    in 1.4s    \n",
            "\n",
            "2019-06-17 02:56:53 (468 KB/s) - ‘wgEncodeHaibTfbsH1hescPol2V0416102PkRep2.broadPeak.gz’ saved [660137/660137]\n",
            "\n",
            "--2019-06-17 02:56:55--  http://hgdownload.cse.ucsc.edu/goldenPath/hg19/encodeDCC/wgEncodeHaibTfbs/wgEncodeHaibTfbsH1hescPol2V0416102RawRep2.bigWig\n",
            "Resolving hgdownload.cse.ucsc.edu (hgdownload.cse.ucsc.edu)... 128.114.119.163\n",
            "Connecting to hgdownload.cse.ucsc.edu (hgdownload.cse.ucsc.edu)|128.114.119.163|:80... connected.\n",
            "HTTP request sent, awaiting response... 200 OK\n",
            "Length: 47340327 (45M) [text/plain]\n",
            "Saving to: ‘wgEncodeHaibTfbsH1hescPol2V0416102RawRep2.bigWig’\n",
            "\n",
            "wgEncodeHaibTfbsH1h 100%[===================>]  45.15M  8.37MB/s    in 9.9s    \n",
            "\n",
            "2019-06-17 02:57:05 (4.56 MB/s) - ‘wgEncodeHaibTfbsH1hescPol2V0416102RawRep2.bigWig’ saved [47340327/47340327]\n",
            "\n",
            "--2019-06-17 02:57:06--  http://hgdownload.cse.ucsc.edu/goldenPath/hg19/encodeDCC/wgEncodeHaibTfbs/wgEncodeHaibTfbsH1hescPol24h8V0416102PkRep1.broadPeak.gz\n",
            "Resolving hgdownload.cse.ucsc.edu (hgdownload.cse.ucsc.edu)... 128.114.119.163\n",
            "Connecting to hgdownload.cse.ucsc.edu (hgdownload.cse.ucsc.edu)|128.114.119.163|:80... connected.\n",
            "HTTP request sent, awaiting response... 200 OK\n",
            "Length: 669487 (654K) [application/x-gzip]\n",
            "Saving to: ‘wgEncodeHaibTfbsH1hescPol24h8V0416102PkRep1.broadPeak.gz’\n",
            "\n",
            "wgEncodeHaibTfbsH1h 100%[===================>] 653.80K   431KB/s    in 1.5s    \n",
            "\n",
            "2019-06-17 02:57:08 (431 KB/s) - ‘wgEncodeHaibTfbsH1hescPol24h8V0416102PkRep1.broadPeak.gz’ saved [669487/669487]\n",
            "\n",
            "--2019-06-17 02:57:09--  http://hgdownload.cse.ucsc.edu/goldenPath/hg19/encodeDCC/wgEncodeHaibTfbs/wgEncodeHaibTfbsH1hescPol24h8V0416102RawRep1.bigWig\n",
            "Resolving hgdownload.cse.ucsc.edu (hgdownload.cse.ucsc.edu)... 128.114.119.163\n",
            "Connecting to hgdownload.cse.ucsc.edu (hgdownload.cse.ucsc.edu)|128.114.119.163|:80... connected.\n",
            "HTTP request sent, awaiting response... 200 OK\n",
            "Length: 43591683 (42M) [text/plain]\n",
            "Saving to: ‘wgEncodeHaibTfbsH1hescPol24h8V0416102RawRep1.bigWig’\n",
            "\n",
            "wgEncodeHaibTfbsH1h 100%[===================>]  41.57M  7.98MB/s    in 9.5s    \n",
            "\n",
            "2019-06-17 02:57:19 (4.36 MB/s) - ‘wgEncodeHaibTfbsH1hescPol24h8V0416102RawRep1.bigWig’ saved [43591683/43591683]\n",
            "\n",
            "--2019-06-17 02:57:21--  http://hgdownload.cse.ucsc.edu/goldenPath/hg19/encodeDCC/wgEncodeHaibTfbs/wgEncodeHaibTfbsH1hescPol24h8V0416102PkRep2.broadPeak.gz\n",
            "Resolving hgdownload.cse.ucsc.edu (hgdownload.cse.ucsc.edu)... 128.114.119.163\n",
            "Connecting to hgdownload.cse.ucsc.edu (hgdownload.cse.ucsc.edu)|128.114.119.163|:80... connected.\n",
            "HTTP request sent, awaiting response... 200 OK\n",
            "Length: 1398278 (1.3M) [application/x-gzip]\n",
            "Saving to: ‘wgEncodeHaibTfbsH1hescPol24h8V0416102PkRep2.broadPeak.gz’\n",
            "\n",
            "wgEncodeHaibTfbsH1h 100%[===================>]   1.33M   698KB/s    in 2.0s    \n",
            "\n",
            "2019-06-17 02:57:23 (698 KB/s) - ‘wgEncodeHaibTfbsH1hescPol24h8V0416102PkRep2.broadPeak.gz’ saved [1398278/1398278]\n",
            "\n",
            "--2019-06-17 02:57:24--  http://hgdownload.cse.ucsc.edu/goldenPath/hg19/encodeDCC/wgEncodeHaibTfbs/wgEncodeHaibTfbsH1hescPol24h8V0416102RawRep2.bigWig\n",
            "Resolving hgdownload.cse.ucsc.edu (hgdownload.cse.ucsc.edu)... 128.114.119.163\n",
            "Connecting to hgdownload.cse.ucsc.edu (hgdownload.cse.ucsc.edu)|128.114.119.163|:80... connected.\n",
            "HTTP request sent, awaiting response... 200 OK\n",
            "Length: 71304324 (68M) [text/plain]\n",
            "Saving to: ‘wgEncodeHaibTfbsH1hescPol24h8V0416102RawRep2.bigWig’\n",
            "\n",
            "wgEncodeHaibTfbsH1h 100%[===================>]  68.00M  12.6MB/s    in 11s     \n",
            "\n",
            "2019-06-17 02:57:35 (6.47 MB/s) - ‘wgEncodeHaibTfbsH1hescPol24h8V0416102RawRep2.bigWig’ saved [71304324/71304324]\n",
            "\n"
          ],
          "name": "stdout"
        }
      ]
    },
    {
      "cell_type": "code",
      "metadata": {
        "id": "mUye6MuLYrBW",
        "colab_type": "code",
        "outputId": "98adc9ac-b4d4-425d-a82f-b71244f2ee10",
        "colab": {
          "base_uri": "https://localhost:8080/",
          "height": 194
        }
      },
      "source": [
        "#bigWigToBedGraph can be downloaded at http://hgdownload.cse.ucsc.edu/admin/exe/\n",
        "#convert one of the bigWig files into bedGraph\n",
        "!bigWigToBedGraph wgEncodeHaibTfbsH1hescPol2V0416102RawRep1.bigWig wgEncodeHaibTfbsH1hescPol2V0416102RawRep1.bedGraph\n",
        " \n",
        "#have a look at the first few lines\n",
        "!head wgEncodeHaibTfbsH1hescPol2V0416102RawRep1.bedGraph\n"
      ],
      "execution_count": 0,
      "outputs": [
        {
          "output_type": "stream",
          "text": [
            "chr1\t10074\t10075\t0.181626\n",
            "chr1\t10075\t10076\t0.290601\n",
            "chr1\t10076\t10077\t0.399577\n",
            "chr1\t10077\t10079\t0.508552\n",
            "chr1\t10079\t10083\t0.544878\n",
            "chr1\t10083\t10084\t0.581203\n",
            "chr1\t10084\t10085\t0.690178\n",
            "chr1\t10085\t10086\t10.3527\n",
            "chr1\t10086\t10090\t10.389\n",
            "chr1\t10090\t10092\t10.4616\n"
          ],
          "name": "stdout"
        }
      ]
    },
    {
      "cell_type": "code",
      "metadata": {
        "id": "uWpQYXBNZilq",
        "colab_type": "code",
        "outputId": "41cdd69c-564b-4d2c-ddf9-cadb2b9de7f0",
        "colab": {
          "base_uri": "https://localhost:8080/",
          "height": 52
        }
      },
      "source": [
        "#how many positions?\n",
        "!cat wgEncodeHaibTfbsH1hescPol2V0416102RawRep1.bedGraph | awk '{n= n + $3-$2} END {print n}'\n",
        " \n",
        "#total signal\n",
        "!cat wgEncodeHaibTfbsH1hescPol2V0416102RawRep1.bedGraph | awk '{n=n+ (($3-$2)*$4)} END {print n}'"
      ],
      "execution_count": 0,
      "outputs": [
        {
          "output_type": "stream",
          "text": [
            "27001019\n",
            "8.77767e+06\n"
          ],
          "name": "stdout"
        }
      ]
    },
    {
      "cell_type": "code",
      "metadata": {
        "id": "SCUkrmgcbluP",
        "colab_type": "code",
        "outputId": "3f173d61-d849-4fae-b5cc-bb40ddd44dbd",
        "colab": {
          "base_uri": "https://localhost:8080/",
          "height": 212
        }
      },
      "source": [
        "!wget http://hgdownload.soe.ucsc.edu/goldenPath/hg19/encodeDCC/wgEncodeRegTfbsClustered/wgEncodeRegTfbsClusteredV3.bed.gz"
      ],
      "execution_count": 0,
      "outputs": [
        {
          "output_type": "stream",
          "text": [
            "--2019-06-17 02:57:58--  http://hgdownload.soe.ucsc.edu/goldenPath/hg19/encodeDCC/wgEncodeRegTfbsClustered/wgEncodeRegTfbsClusteredV3.bed.gz\n",
            "Resolving hgdownload.soe.ucsc.edu (hgdownload.soe.ucsc.edu)... 128.114.119.163\n",
            "Connecting to hgdownload.soe.ucsc.edu (hgdownload.soe.ucsc.edu)|128.114.119.163|:80... connected.\n",
            "HTTP request sent, awaiting response... 200 OK\n",
            "Length: 84986946 (81M) [application/x-gzip]\n",
            "Saving to: ‘wgEncodeRegTfbsClusteredV3.bed.gz’\n",
            "\n",
            "wgEncodeRegTfbsClus 100%[===================>]  81.05M  15.9MB/s    in 11s     \n",
            "\n",
            "2019-06-17 02:58:09 (7.37 MB/s) - ‘wgEncodeRegTfbsClusteredV3.bed.gz’ saved [84986946/84986946]\n",
            "\n"
          ],
          "name": "stdout"
        }
      ]
    },
    {
      "cell_type": "code",
      "metadata": {
        "id": "G11WsfjIbm85",
        "colab_type": "code",
        "colab": {}
      },
      "source": [
        "!gunzip wgEncodeRegTfbsClusteredV3.bed.gz"
      ],
      "execution_count": 0,
      "outputs": []
    },
    {
      "cell_type": "code",
      "metadata": {
        "id": "bxzikJSobuF6",
        "colab_type": "code",
        "colab": {}
      },
      "source": [
        "a = pybedtools.BedTool('wgEncodeRegTfbsClusteredV3.bed')"
      ],
      "execution_count": 0,
      "outputs": []
    },
    {
      "cell_type": "code",
      "metadata": {
        "id": "0r1y8Em0ecT9",
        "colab_type": "code",
        "outputId": "ad770e71-3c10-4979-e557-51275b13ea2b",
        "colab": {
          "base_uri": "https://localhost:8080/",
          "height": 194
        }
      },
      "source": [
        "!head wgEncodeRegTfbsClusteredV3.bed"
      ],
      "execution_count": 0,
      "outputs": [
        {
          "output_type": "stream",
          "text": [
            "chr1\t10073\t10329\tZBTB33\t354\t2\t204,246\t354,138\n",
            "chr1\t10149\t10413\tCEBPB\t201\t1\t343\t201\n",
            "chr1\t16110\t16390\tCTCF\t227\t7\t213,612,621,627,628,631,662\t110,139,171,209,227,200,170\n",
            "chr1\t29198\t29688\tTAF1\t184\t1\t157\t184\n",
            "chr1\t29275\t29591\tGABPA\t198\t1\t180\t198\n",
            "chr1\t89795\t90051\tUSF1\t185\t2\t68,202\t146,185\n",
            "chr1\t91156\t91580\tCTCF\t223\t9\t9,640,645,657,663,669,672,675,685\t183,223,138,115,115,145,141,144,220\n",
            "chr1\t104859\t105089\tCTCF\t106\t2\t48,49\t87,106\n",
            "chr1\t138850\t139274\tCTCF\t166\t3\t24,213,679\t166,125,127\n",
            "chr1\t235541\t235877\tSP1\t120\t1\t196\t120\n"
          ],
          "name": "stdout"
        }
      ]
    },
    {
      "cell_type": "code",
      "metadata": {
        "id": "ARwQ2RlaefyI",
        "colab_type": "code",
        "colab": {}
      },
      "source": [
        ""
      ],
      "execution_count": 0,
      "outputs": []
    },
    {
      "cell_type": "markdown",
      "metadata": {
        "id": "cJQxGGpEecLO",
        "colab_type": "text"
      },
      "source": [
        ""
      ]
    },
    {
      "cell_type": "code",
      "metadata": {
        "id": "7t-_1jvauVzn",
        "colab_type": "code",
        "colab": {}
      },
      "source": [
        ""
      ],
      "execution_count": 0,
      "outputs": []
    },
    {
      "cell_type": "code",
      "metadata": {
        "id": "uTbAKKQob8Cn",
        "colab_type": "code",
        "outputId": "5458cd52-b97e-4535-801f-e0a2ad24d407",
        "colab": {
          "base_uri": "https://localhost:8080/",
          "height": 212
        }
      },
      "source": [
        "!wget https://media.nature.com/original/nature-assets/nature/journal/v536/n7616/extref/nature19057-s2.zip"
      ],
      "execution_count": 0,
      "outputs": [
        {
          "output_type": "stream",
          "text": [
            "--2019-06-17 02:58:19--  https://media.nature.com/original/nature-assets/nature/journal/v536/n7616/extref/nature19057-s2.zip\n",
            "Resolving media.nature.com (media.nature.com)... 151.101.0.95, 151.101.64.95, 151.101.128.95, ...\n",
            "Connecting to media.nature.com (media.nature.com)|151.101.0.95|:443... connected.\n",
            "HTTP request sent, awaiting response... 200 OK\n",
            "Length: unspecified [application/zip]\n",
            "Saving to: ‘nature19057-s2.zip’\n",
            "\n",
            "nature19057-s2.zip      [      <=>           ]   5.78M   669KB/s    in 8.9s    \n",
            "\n",
            "2019-06-17 02:58:28 (662 KB/s) - ‘nature19057-s2.zip’ saved [6060114]\n",
            "\n"
          ],
          "name": "stdout"
        }
      ]
    },
    {
      "cell_type": "code",
      "metadata": {
        "id": "pYDXb_oBdyLK",
        "colab_type": "code",
        "outputId": "b298ee17-5e22-4b42-eeb7-80ead57f7b6d",
        "colab": {
          "base_uri": "https://localhost:8080/",
          "height": 318
        }
      },
      "source": [
        "!unzip nature19057-s2.zip"
      ],
      "execution_count": 0,
      "outputs": [
        {
          "output_type": "stream",
          "text": [
            "Archive:  nature19057-s2.zip\n",
            "   creating: nature19057-s2/\n",
            "  inflating: nature19057-s2/2015-10-14616C-SI_Guide.txt  \n",
            "  inflating: nature19057-s2/nature19057-SI Table 13.xlsx  \n",
            "   creating: __MACOSX/\n",
            "   creating: __MACOSX/nature19057-s2/\n",
            "  inflating: __MACOSX/nature19057-s2/._nature19057-SI Table 13.xlsx  \n",
            "  inflating: nature19057-s2/nature19057-SI Table 16.xlsx  \n",
            "  inflating: __MACOSX/nature19057-s2/._nature19057-SI Table 16.xlsx  \n",
            "  inflating: nature19057-s2/nature19057-SI Table 19.xlsx  \n",
            "  inflating: __MACOSX/nature19057-s2/._nature19057-SI Table 19.xlsx  \n",
            "  inflating: nature19057-s2/nature19057-SI Table 20.xlsx  \n",
            "  inflating: __MACOSX/nature19057-s2/._nature19057-SI Table 20.xlsx  \n",
            "  inflating: nature19057-s2/nature19057-SI Table 6.xlsx  \n",
            "  inflating: __MACOSX/nature19057-s2/._nature19057-SI Table 6.xlsx  \n",
            "  inflating: nature19057-s2/nature19057-SI Table 9.xlsx  \n",
            "  inflating: __MACOSX/nature19057-s2/._nature19057-SI Table 9.xlsx  \n"
          ],
          "name": "stdout"
        }
      ]
    },
    {
      "cell_type": "code",
      "metadata": {
        "id": "d2UpTwRLd3nT",
        "colab_type": "code",
        "outputId": "d71a9052-ca4e-4d50-a9c3-8f34f819eb35",
        "colab": {
          "base_uri": "https://localhost:8080/",
          "height": 301
        }
      },
      "source": [
        "!wget https://github.com/shwhalen/targetfinder/raw/master/expression/gencode.v19.TSS.notlow.gff.gz"
      ],
      "execution_count": 0,
      "outputs": [
        {
          "output_type": "stream",
          "text": [
            "--2019-06-17 02:58:32--  https://github.com/shwhalen/targetfinder/raw/master/expression/gencode.v19.TSS.notlow.gff.gz\n",
            "Resolving github.com (github.com)... 192.30.253.112\n",
            "Connecting to github.com (github.com)|192.30.253.112|:443... connected.\n",
            "HTTP request sent, awaiting response... 302 Found\n",
            "Location: https://raw.githubusercontent.com/shwhalen/targetfinder/master/expression/gencode.v19.TSS.notlow.gff.gz [following]\n",
            "--2019-06-17 02:58:33--  https://raw.githubusercontent.com/shwhalen/targetfinder/master/expression/gencode.v19.TSS.notlow.gff.gz\n",
            "Resolving raw.githubusercontent.com (raw.githubusercontent.com)... 151.101.0.133, 151.101.64.133, 151.101.128.133, ...\n",
            "Connecting to raw.githubusercontent.com (raw.githubusercontent.com)|151.101.0.133|:443... connected.\n",
            "HTTP request sent, awaiting response... 200 OK\n",
            "Length: 2706013 (2.6M) [application/octet-stream]\n",
            "Saving to: ‘gencode.v19.TSS.notlow.gff.gz’\n",
            "\n",
            "\r          gencode.v   0%[                    ]       0  --.-KB/s               \rgencode.v19.TSS.not 100%[===================>]   2.58M  --.-KB/s    in 0.1s    \n",
            "\n",
            "2019-06-17 02:58:33 (25.3 MB/s) - ‘gencode.v19.TSS.notlow.gff.gz’ saved [2706013/2706013]\n",
            "\n"
          ],
          "name": "stdout"
        }
      ]
    },
    {
      "cell_type": "code",
      "metadata": {
        "id": "GN5Th6drknAF",
        "colab_type": "code",
        "colab": {}
      },
      "source": [
        "!gunzip gencode.v19.TSS.notlow.gff.gz"
      ],
      "execution_count": 0,
      "outputs": []
    },
    {
      "cell_type": "code",
      "metadata": {
        "id": "dw-v8D0Hv0aN",
        "colab_type": "code",
        "colab": {}
      },
      "source": [
        "import pandas as pd"
      ],
      "execution_count": 0,
      "outputs": []
    },
    {
      "cell_type": "code",
      "metadata": {
        "id": "c6rd6wmwyBDB",
        "colab_type": "code",
        "colab": {}
      },
      "source": [
        "tss_temp = pd.read_csv('gencode.v19.TSS.notlow.gff', sep = '\\t', header = None, usecols = [0, 3, 6, 8])"
      ],
      "execution_count": 0,
      "outputs": []
    },
    {
      "cell_type": "code",
      "metadata": {
        "id": "4ElnxVtGyEXQ",
        "colab_type": "code",
        "outputId": "ebc9a363-54cc-42e2-cf89-915a5977dc9b",
        "colab": {
          "base_uri": "https://localhost:8080/",
          "height": 197
        }
      },
      "source": [
        "tss_temp.head()"
      ],
      "execution_count": 0,
      "outputs": [
        {
          "output_type": "execute_result",
          "data": {
            "text/html": [
              "<div>\n",
              "<style scoped>\n",
              "    .dataframe tbody tr th:only-of-type {\n",
              "        vertical-align: middle;\n",
              "    }\n",
              "\n",
              "    .dataframe tbody tr th {\n",
              "        vertical-align: top;\n",
              "    }\n",
              "\n",
              "    .dataframe thead th {\n",
              "        text-align: right;\n",
              "    }\n",
              "</style>\n",
              "<table border=\"1\" class=\"dataframe\">\n",
              "  <thead>\n",
              "    <tr style=\"text-align: right;\">\n",
              "      <th></th>\n",
              "      <th>0</th>\n",
              "      <th>3</th>\n",
              "      <th>6</th>\n",
              "      <th>8</th>\n",
              "    </tr>\n",
              "  </thead>\n",
              "  <tbody>\n",
              "    <tr>\n",
              "      <th>0</th>\n",
              "      <td>chr10</td>\n",
              "      <td>100011780</td>\n",
              "      <td>+</td>\n",
              "      <td>gene_id ENSG00000230928.1 trlist ENST000004333...</td>\n",
              "    </tr>\n",
              "    <tr>\n",
              "      <th>1</th>\n",
              "      <td>chr10</td>\n",
              "      <td>100028007</td>\n",
              "      <td>-</td>\n",
              "      <td>gene_id ENSG00000138131.3 trlist ENST000002607...</td>\n",
              "    </tr>\n",
              "    <tr>\n",
              "      <th>2</th>\n",
              "      <td>chr10</td>\n",
              "      <td>100148193</td>\n",
              "      <td>-</td>\n",
              "      <td>gene_id ENSG00000119943.6 trlist ENST000004648...</td>\n",
              "    </tr>\n",
              "    <tr>\n",
              "      <th>3</th>\n",
              "      <td>chr10</td>\n",
              "      <td>100155064</td>\n",
              "      <td>-</td>\n",
              "      <td>gene_id ENSG00000221419.1 trlist ENST000004084...</td>\n",
              "    </tr>\n",
              "    <tr>\n",
              "      <th>4</th>\n",
              "      <td>chr10</td>\n",
              "      <td>100171634</td>\n",
              "      <td>-</td>\n",
              "      <td>gene_id ENSG00000119943.6 trlist ENST000004839...</td>\n",
              "    </tr>\n",
              "  </tbody>\n",
              "</table>\n",
              "</div>"
            ],
            "text/plain": [
              "       0          3  6                                                  8\n",
              "0  chr10  100011780  +  gene_id ENSG00000230928.1 trlist ENST000004333...\n",
              "1  chr10  100028007  -  gene_id ENSG00000138131.3 trlist ENST000002607...\n",
              "2  chr10  100148193  -  gene_id ENSG00000119943.6 trlist ENST000004648...\n",
              "3  chr10  100155064  -  gene_id ENSG00000221419.1 trlist ENST000004084...\n",
              "4  chr10  100171634  -  gene_id ENSG00000119943.6 trlist ENST000004839..."
            ]
          },
          "metadata": {
            "tags": []
          },
          "execution_count": 55
        }
      ]
    },
    {
      "cell_type": "code",
      "metadata": {
        "id": "cqivI4w6yI3h",
        "colab_type": "code",
        "colab": {}
      },
      "source": [
        ""
      ],
      "execution_count": 0,
      "outputs": []
    },
    {
      "cell_type": "code",
      "metadata": {
        "id": "cIgfPrfYkrTm",
        "colab_type": "code",
        "colab": {}
      },
      "source": [
        "tss_df = pd.read_csv('gencode.v19.TSS.notlow.gff', sep = '\\t', header = None, usecols = [0, 3, 6, 8])\n",
        "tss_df.columns = ['gene_chrom', 'gene_tss', 'strand', 'attributes']\n",
        "tss_df['gene_id'] = tss_df['attributes'].str.extract('gene_id ([^ ]+)')\n",
        "pos_strand_tss_df = tss_df.query('strand == \"+\"').groupby('gene_id')[['gene_chrom', 'gene_tss']].min()\n",
        "neg_strand_tss_df = tss_df.query('strand == \"-\"').groupby('gene_id')[['gene_chrom', 'gene_tss']].max()\n",
        "final_tss_df = pd.concat([pos_strand_tss_df, neg_strand_tss_df]) # don't ignore index"
      ],
      "execution_count": 0,
      "outputs": []
    },
    {
      "cell_type": "code",
      "metadata": {
        "id": "AhYOM1Bcb36W",
        "colab_type": "code",
        "outputId": "408c6574-74a1-42a7-d2ac-a17c96aff898",
        "colab": {
          "base_uri": "https://localhost:8080/",
          "height": 1172
        }
      },
      "source": [
        "print(final_tss_df)"
      ],
      "execution_count": 0,
      "outputs": [
        {
          "output_type": "stream",
          "text": [
            "                   gene_chrom   gene_tss\n",
            "gene_id                                 \n",
            "ENSG00000000005.5        chrX   99839799\n",
            "ENSG00000000460.12       chr1  169631245\n",
            "ENSG00000000971.11       chr1  196621008\n",
            "ENSG00000001167.10       chr6   41040684\n",
            "ENSG00000001461.12       chr1   24742284\n",
            "ENSG00000001561.6        chr6   46097730\n",
            "ENSG00000001617.7        chr3   50192478\n",
            "ENSG00000001626.10       chr7  117105838\n",
            "ENSG00000001629.5        chr7   91875548\n",
            "ENSG00000002079.8        chr7   98836417\n",
            "ENSG00000002549.8        chr4   17578815\n",
            "ENSG00000002586.13       chrX    2609220\n",
            "ENSG00000002726.15       chr7  150521715\n",
            "ENSG00000002745.8        chr7  120965421\n",
            "ENSG00000002746.10       chr7   43152198\n",
            "ENSG00000002834.13      chr17   37026112\n",
            "ENSG00000002919.10      chr17   46180719\n",
            "ENSG00000002933.3        chr7  150497491\n",
            "ENSG00000003400.10       chr2  202047604\n",
            "ENSG00000003402.15       chr2  201980827\n",
            "ENSG00000003509.11       chr2   37458774\n",
            "ENSG00000003756.12       chr3   50126341\n",
            "ENSG00000003989.12       chr8   17354597\n",
            "ENSG00000004059.6        chr7  127228399\n",
            "ENSG00000004139.9       chr17   26691378\n",
            "ENSG00000004468.8        chr4   15779898\n",
            "ENSG00000004478.5       chr12    2904119\n",
            "ENSG00000004487.11       chr1   23345941\n",
            "ENSG00000004534.10       chr3   49977440\n",
            "ENSG00000004766.11       chr7   92861653\n",
            "...                       ...        ...\n",
            "ENSG00000273456.1        chr2  203240327\n",
            "ENSG00000273463.1        chr9   36003660\n",
            "ENSG00000273466.1        chr2  219498737\n",
            "ENSG00000273471.1        chr2  111191250\n",
            "ENSG00000273477.1        chr7   16129275\n",
            "ENSG00000273478.1        chr1  201965480\n",
            "ENSG00000273483.1        chr1  113061063\n",
            "ENSG00000273486.1        chr3  136557863\n",
            "ENSG00000273489.1        chr7  131182453\n",
            "ENSGR0000167393.12       chrY     297690\n",
            "ENSGR0000169084.8        chrY    2370846\n",
            "ENSGR0000169093.10       chrY    1522655\n",
            "ENSGR0000169100.8        chrY    1461617\n",
            "ENSGR0000178605.8        chrY     180886\n",
            "ENSGR0000182162.5        chrY    1606000\n",
            "ENSGR0000185203.7        chrY   59349508\n",
            "ENSGR0000205755.6        chrY    1281616\n",
            "ENSGR0000214717.5        chrY    2369008\n",
            "ENSGR0000223274.1        chrY    1369268\n",
            "ENSGR0000223484.2        chrY   59318920\n",
            "ENSGR0000223571.1        chrY    2204451\n",
            "ENSGR0000225661.2        chrY     920836\n",
            "ENSGR0000227159.3        chrY   59360854\n",
            "ENSGR0000228410.1        chrY   59311996\n",
            "ENSGR0000229232.1        chrY     456087\n",
            "ENSGR0000230542.1        chrY    2483388\n",
            "ENSGR0000234958.1        chrY     434837\n",
            "ENSGR0000237801.1        chrY   59162245\n",
            "ENSGR0000265350.1        chrY    1388052\n",
            "ENSGR0000266731.1        chrY     375416\n",
            "\n",
            "[57534 rows x 2 columns]\n"
          ],
          "name": "stdout"
        }
      ]
    },
    {
      "cell_type": "code",
      "metadata": {
        "id": "NBtIoP9Hw0f8",
        "colab_type": "code",
        "outputId": "f1cfab4b-1d69-47b8-f14d-f58f794ccd47",
        "colab": {
          "base_uri": "https://localhost:8080/",
          "height": 283
        }
      },
      "source": [
        "!wget ftp://ftp.ensembl.org/pub/current_regulation/homo_sapiens/homo_sapiens.GRCh38.Regulatory_Build.regulatory_features.20190122.gff.gz"
      ],
      "execution_count": 0,
      "outputs": [
        {
          "output_type": "stream",
          "text": [
            "--2019-06-17 02:58:58--  ftp://ftp.ensembl.org/pub/current_regulation/homo_sapiens/homo_sapiens.GRCh38.Regulatory_Build.regulatory_features.20190122.gff.gz\n",
            "           => ‘homo_sapiens.GRCh38.Regulatory_Build.regulatory_features.20190122.gff.gz’\n",
            "Resolving ftp.ensembl.org (ftp.ensembl.org)... 193.62.193.8\n",
            "Connecting to ftp.ensembl.org (ftp.ensembl.org)|193.62.193.8|:21... connected.\n",
            "Logging in as anonymous ... Logged in!\n",
            "==> SYST ... done.    ==> PWD ... done.\n",
            "==> TYPE I ... done.  ==> CWD (1) /pub/current_regulation/homo_sapiens ... done.\n",
            "==> SIZE homo_sapiens.GRCh38.Regulatory_Build.regulatory_features.20190122.gff.gz ... 12214564\n",
            "==> PASV ... done.    ==> RETR homo_sapiens.GRCh38.Regulatory_Build.regulatory_features.20190122.gff.gz ... done.\n",
            "Length: 12214564 (12M) (unauthoritative)\n",
            "\n",
            "homo_sapiens.GRCh38 100%[===================>]  11.65M  11.9MB/s    in 1.0s    \n",
            "\n",
            "2019-06-17 02:59:01 (11.9 MB/s) - ‘homo_sapiens.GRCh38.Regulatory_Build.regulatory_features.20190122.gff.gz’ saved [12214564]\n",
            "\n"
          ],
          "name": "stdout"
        }
      ]
    },
    {
      "cell_type": "code",
      "metadata": {
        "id": "0dMnyDNPZg0R",
        "colab_type": "code",
        "colab": {}
      },
      "source": [
        "!gunzip homo_sapiens.GRCh38.Regulatory_Build.regulatory_features.20190122.gff.gz"
      ],
      "execution_count": 0,
      "outputs": []
    },
    {
      "cell_type": "code",
      "metadata": {
        "id": "S_ozZa23Zkdp",
        "colab_type": "code",
        "colab": {}
      },
      "source": [
        "from pybedtools import BedTool\n"
      ],
      "execution_count": 0,
      "outputs": []
    },
    {
      "cell_type": "code",
      "metadata": {
        "id": "D7yABZDgZHY4",
        "colab_type": "code",
        "colab": {}
      },
      "source": [
        "rf_df = BedTool('homo_sapiens.GRCh38.Regulatory_Build.regulatory_features.20190122.gff')\n"
      ],
      "execution_count": 0,
      "outputs": []
    },
    {
      "cell_type": "code",
      "metadata": {
        "id": "SQ2qOjUuaecS",
        "colab_type": "code",
        "outputId": "d88e827d-b90f-4af7-dce7-69912da5f4fb",
        "colab": {
          "base_uri": "https://localhost:8080/",
          "height": 167
        }
      },
      "source": [
        "rf_df.head(rd_df)"
      ],
      "execution_count": 0,
      "outputs": [
        {
          "output_type": "error",
          "ename": "NameError",
          "evalue": "ignored",
          "traceback": [
            "\u001b[0;31m---------------------------------------------------------------------------\u001b[0m",
            "\u001b[0;31mNameError\u001b[0m                                 Traceback (most recent call last)",
            "\u001b[0;32m<ipython-input-30-e7d78de18235>\u001b[0m in \u001b[0;36m<module>\u001b[0;34m()\u001b[0m\n\u001b[0;32m----> 1\u001b[0;31m \u001b[0mrf_df\u001b[0m\u001b[0;34m.\u001b[0m\u001b[0mhead\u001b[0m\u001b[0;34m(\u001b[0m\u001b[0mrd_df\u001b[0m\u001b[0;34m)\u001b[0m\u001b[0;34m\u001b[0m\u001b[0;34m\u001b[0m\u001b[0m\n\u001b[0m",
            "\u001b[0;31mNameError\u001b[0m: name 'rd_df' is not defined"
          ]
        }
      ]
    },
    {
      "cell_type": "code",
      "metadata": {
        "id": "KKpy7ZKpaYWo",
        "colab_type": "code",
        "outputId": "3268a8e7-a2a1-45dd-c473-8f5e9a7c613a",
        "colab": {
          "base_uri": "https://localhost:8080/",
          "height": 214
        }
      },
      "source": [
        "!head homo_sapiens.GRCh38.Regulatory_Build.regulatory_features.20190122.gff"
      ],
      "execution_count": 0,
      "outputs": [
        {
          "output_type": "stream",
          "text": [
            "GL000008.2\tRegulatory_Build\topen_chromatin_region\t103826\t104072\t.\t.\t.\tID=open_chromatin_region:ENSR00000898744;bound_end=104072;bound_start=103826;description=Open chromatin region;feature_type=Open chromatin\n",
            "GL000008.2\tRegulatory_Build\topen_chromatin_region\t106256\t106509\t.\t.\t.\tID=open_chromatin_region:ENSR00000898745;bound_end=106509;bound_start=106256;description=Open chromatin region;feature_type=Open chromatin\n",
            "GL000008.2\tRegulatory_Build\topen_chromatin_region\t112834\t113287\t.\t.\t.\tID=open_chromatin_region:ENSR00000898746;bound_end=113287;bound_start=112834;description=Open chromatin region;feature_type=Open chromatin\n",
            "GL000008.2\tRegulatory_Build\topen_chromatin_region\t134012\t134338\t.\t.\t.\tID=open_chromatin_region:ENSR00000898747;bound_end=134338;bound_start=134012;description=Open chromatin region;feature_type=Open chromatin\n",
            "GL000008.2\tRegulatory_Build\topen_chromatin_region\t144218\t144516\t.\t.\t.\tID=open_chromatin_region:ENSR00000898749;bound_end=144516;bound_start=144218;description=Open chromatin region;feature_type=Open chromatin\n",
            "GL000008.2\tRegulatory_Build\topen_chromatin_region\t187509\t187662\t.\t.\t.\tID=open_chromatin_region:ENSR00000898752;bound_end=187662;bound_start=187509;description=Open chromatin region;feature_type=Open chromatin\n",
            "GL000008.2\tRegulatory_Build\tTF_binding_site\t137995\t138389\t.\t.\t.\tID=TF_binding_site:ENSR00000898748;bound_end=138389;bound_start=137995;description=Transcription factor binding site;feature_type=TF binding site\n",
            "GL000008.2\tRegulatory_Build\tTF_binding_site\t167431\t167731\t.\t.\t.\tID=TF_binding_site:ENSR00000898750;bound_end=167869;bound_start=167431;description=Transcription factor binding site;feature_type=TF binding site\n",
            "GL000008.2\tRegulatory_Build\tTF_binding_site\t167789\t167870\t.\t.\t.\tID=TF_binding_site:ENSR00000898751;bound_end=167870;bound_start=167432;description=Transcription factor binding site;feature_type=TF binding site\n",
            "GL000008.2\tRegulatory_Build\tTF_binding_site\t170088\t170806\t.\t.\t.\tID=TF_binding_site:ENSR00000243314;bound_end=170806;bound_start=170088;description=Transcription factor binding site;feature_type=TF binding site\n"
          ],
          "name": "stdout"
        }
      ]
    },
    {
      "cell_type": "code",
      "metadata": {
        "id": "sCRzpx9Fbjie",
        "colab_type": "code",
        "colab": {}
      },
      "source": [
        "rf_df = pd.read_csv('homo_sapiens.GRCh38.Regulatory_Build.regulatory_features.20190122.gff', sep = '\\t', header = None, usecols = [2, 3, 4])"
      ],
      "execution_count": 0,
      "outputs": []
    },
    {
      "cell_type": "code",
      "metadata": {
        "id": "WxG9z9qtcQdK",
        "colab_type": "code",
        "outputId": "aa5380cb-0e54-4b64-cbd2-53748bc9bcd2",
        "colab": {
          "base_uri": "https://localhost:8080/",
          "height": 197
        }
      },
      "source": [
        "rf_df.head()"
      ],
      "execution_count": 0,
      "outputs": [
        {
          "output_type": "execute_result",
          "data": {
            "text/html": [
              "<div>\n",
              "<style scoped>\n",
              "    .dataframe tbody tr th:only-of-type {\n",
              "        vertical-align: middle;\n",
              "    }\n",
              "\n",
              "    .dataframe tbody tr th {\n",
              "        vertical-align: top;\n",
              "    }\n",
              "\n",
              "    .dataframe thead th {\n",
              "        text-align: right;\n",
              "    }\n",
              "</style>\n",
              "<table border=\"1\" class=\"dataframe\">\n",
              "  <thead>\n",
              "    <tr style=\"text-align: right;\">\n",
              "      <th></th>\n",
              "      <th>2</th>\n",
              "      <th>3</th>\n",
              "      <th>4</th>\n",
              "    </tr>\n",
              "  </thead>\n",
              "  <tbody>\n",
              "    <tr>\n",
              "      <th>0</th>\n",
              "      <td>open_chromatin_region</td>\n",
              "      <td>103826</td>\n",
              "      <td>104072</td>\n",
              "    </tr>\n",
              "    <tr>\n",
              "      <th>1</th>\n",
              "      <td>open_chromatin_region</td>\n",
              "      <td>106256</td>\n",
              "      <td>106509</td>\n",
              "    </tr>\n",
              "    <tr>\n",
              "      <th>2</th>\n",
              "      <td>open_chromatin_region</td>\n",
              "      <td>112834</td>\n",
              "      <td>113287</td>\n",
              "    </tr>\n",
              "    <tr>\n",
              "      <th>3</th>\n",
              "      <td>open_chromatin_region</td>\n",
              "      <td>134012</td>\n",
              "      <td>134338</td>\n",
              "    </tr>\n",
              "    <tr>\n",
              "      <th>4</th>\n",
              "      <td>open_chromatin_region</td>\n",
              "      <td>144218</td>\n",
              "      <td>144516</td>\n",
              "    </tr>\n",
              "  </tbody>\n",
              "</table>\n",
              "</div>"
            ],
            "text/plain": [
              "                       2       3       4\n",
              "0  open_chromatin_region  103826  104072\n",
              "1  open_chromatin_region  106256  106509\n",
              "2  open_chromatin_region  112834  113287\n",
              "3  open_chromatin_region  134012  134338\n",
              "4  open_chromatin_region  144218  144516"
            ]
          },
          "metadata": {
            "tags": []
          },
          "execution_count": 35
        }
      ]
    },
    {
      "cell_type": "code",
      "metadata": {
        "id": "6tTLsCukcV-_",
        "colab_type": "code",
        "outputId": "3ba4108d-94af-4cbf-d2ab-8c91b28595b0",
        "colab": {
          "base_uri": "https://localhost:8080/",
          "height": 34
        }
      },
      "source": [
        "rf_df.columns"
      ],
      "execution_count": 0,
      "outputs": [
        {
          "output_type": "execute_result",
          "data": {
            "text/plain": [
              "Int64Index([2, 3, 4], dtype='int64')"
            ]
          },
          "metadata": {
            "tags": []
          },
          "execution_count": 36
        }
      ]
    },
    {
      "cell_type": "code",
      "metadata": {
        "id": "N_g5ednji3Qw",
        "colab_type": "code",
        "outputId": "feab005b-9b98-4030-c453-f4237fe5695b",
        "colab": {
          "base_uri": "https://localhost:8080/",
          "height": 132
        }
      },
      "source": [
        "tf = rf.df..str.contains('factor')"
      ],
      "execution_count": 0,
      "outputs": [
        {
          "output_type": "error",
          "ename": "SyntaxError",
          "evalue": "ignored",
          "traceback": [
            "\u001b[0;36m  File \u001b[0;32m\"<ipython-input-46-690a4b9e0da2>\"\u001b[0;36m, line \u001b[0;32m1\u001b[0m\n\u001b[0;31m    tf = rf.df.\"type\".str.contains('factor')\u001b[0m\n\u001b[0m                    ^\u001b[0m\n\u001b[0;31mSyntaxError\u001b[0m\u001b[0;31m:\u001b[0m invalid syntax\n"
          ]
        }
      ]
    },
    {
      "cell_type": "code",
      "metadata": {
        "id": "4LyOrGAzlRrT",
        "colab_type": "code",
        "outputId": "2415cb3b-56f1-41ce-e443-b8f473e9875b",
        "colab": {
          "base_uri": "https://localhost:8080/",
          "height": 132
        }
      },
      "source": [
        "rf_df[ (rf_df.2 == TF_binding_site) ]"
      ],
      "execution_count": 0,
      "outputs": [
        {
          "output_type": "error",
          "ename": "SyntaxError",
          "evalue": "ignored",
          "traceback": [
            "\u001b[0;36m  File \u001b[0;32m\"<ipython-input-52-2fbb2f995f08>\"\u001b[0;36m, line \u001b[0;32m1\u001b[0m\n\u001b[0;31m    rf_df[ (rf_df.2 == TF_binding_site) ]\u001b[0m\n\u001b[0m                  ^\u001b[0m\n\u001b[0;31mSyntaxError\u001b[0m\u001b[0;31m:\u001b[0m invalid syntax\n"
          ]
        }
      ]
    },
    {
      "cell_type": "code",
      "metadata": {
        "id": "zW8anExJmKpi",
        "colab_type": "code",
        "colab": {}
      },
      "source": [
        ""
      ],
      "execution_count": 0,
      "outputs": []
    },
    {
      "cell_type": "code",
      "metadata": {
        "id": "6qFBqwPEmHCA",
        "colab_type": "code",
        "colab": {}
      },
      "source": [
        ""
      ],
      "execution_count": 0,
      "outputs": []
    },
    {
      "cell_type": "code",
      "metadata": {
        "id": "yTaFOedil5mG",
        "colab_type": "code",
        "colab": {}
      },
      "source": [
        ""
      ],
      "execution_count": 0,
      "outputs": []
    },
    {
      "cell_type": "code",
      "metadata": {
        "id": "ema9j35pl0KQ",
        "colab_type": "code",
        "outputId": "7414cc8e-e167-499e-abdc-07a4e8740767",
        "colab": {
          "base_uri": "https://localhost:8080/",
          "height": 34
        }
      },
      "source": [
        "rf_df.columns"
      ],
      "execution_count": 0,
      "outputs": [
        {
          "output_type": "execute_result",
          "data": {
            "text/plain": [
              "Int64Index([2, 3, 4], dtype='int64')"
            ]
          },
          "metadata": {
            "tags": []
          },
          "execution_count": 53
        }
      ]
    },
    {
      "cell_type": "code",
      "metadata": {
        "id": "0fPdIdcsrJjP",
        "colab_type": "code",
        "colab": {}
      },
      "source": [
        ""
      ],
      "execution_count": 0,
      "outputs": []
    },
    {
      "cell_type": "code",
      "metadata": {
        "id": "kopWl9Itkngy",
        "colab_type": "code",
        "outputId": "4a1c19b8-2b55-447f-bf41-6ced29e19558",
        "colab": {
          "base_uri": "https://localhost:8080/",
          "height": 1906
        }
      },
      "source": [
        "rf_df.rename(columns={\"type\": \"2\", \"start\": \"3\", \"stop\": \"4\"})"
      ],
      "execution_count": 0,
      "outputs": [
        {
          "output_type": "execute_result",
          "data": {
            "text/html": [
              "<div>\n",
              "<style scoped>\n",
              "    .dataframe tbody tr th:only-of-type {\n",
              "        vertical-align: middle;\n",
              "    }\n",
              "\n",
              "    .dataframe tbody tr th {\n",
              "        vertical-align: top;\n",
              "    }\n",
              "\n",
              "    .dataframe thead th {\n",
              "        text-align: right;\n",
              "    }\n",
              "</style>\n",
              "<table border=\"1\" class=\"dataframe\">\n",
              "  <thead>\n",
              "    <tr style=\"text-align: right;\">\n",
              "      <th></th>\n",
              "      <th>2</th>\n",
              "      <th>3</th>\n",
              "      <th>4</th>\n",
              "    </tr>\n",
              "  </thead>\n",
              "  <tbody>\n",
              "    <tr>\n",
              "      <th>0</th>\n",
              "      <td>open_chromatin_region</td>\n",
              "      <td>103826</td>\n",
              "      <td>104072</td>\n",
              "    </tr>\n",
              "    <tr>\n",
              "      <th>1</th>\n",
              "      <td>open_chromatin_region</td>\n",
              "      <td>106256</td>\n",
              "      <td>106509</td>\n",
              "    </tr>\n",
              "    <tr>\n",
              "      <th>2</th>\n",
              "      <td>open_chromatin_region</td>\n",
              "      <td>112834</td>\n",
              "      <td>113287</td>\n",
              "    </tr>\n",
              "    <tr>\n",
              "      <th>3</th>\n",
              "      <td>open_chromatin_region</td>\n",
              "      <td>134012</td>\n",
              "      <td>134338</td>\n",
              "    </tr>\n",
              "    <tr>\n",
              "      <th>4</th>\n",
              "      <td>open_chromatin_region</td>\n",
              "      <td>144218</td>\n",
              "      <td>144516</td>\n",
              "    </tr>\n",
              "    <tr>\n",
              "      <th>5</th>\n",
              "      <td>open_chromatin_region</td>\n",
              "      <td>187509</td>\n",
              "      <td>187662</td>\n",
              "    </tr>\n",
              "    <tr>\n",
              "      <th>6</th>\n",
              "      <td>TF_binding_site</td>\n",
              "      <td>137995</td>\n",
              "      <td>138389</td>\n",
              "    </tr>\n",
              "    <tr>\n",
              "      <th>7</th>\n",
              "      <td>TF_binding_site</td>\n",
              "      <td>167431</td>\n",
              "      <td>167731</td>\n",
              "    </tr>\n",
              "    <tr>\n",
              "      <th>8</th>\n",
              "      <td>TF_binding_site</td>\n",
              "      <td>167789</td>\n",
              "      <td>167870</td>\n",
              "    </tr>\n",
              "    <tr>\n",
              "      <th>9</th>\n",
              "      <td>TF_binding_site</td>\n",
              "      <td>170088</td>\n",
              "      <td>170806</td>\n",
              "    </tr>\n",
              "    <tr>\n",
              "      <th>10</th>\n",
              "      <td>TF_binding_site</td>\n",
              "      <td>2</td>\n",
              "      <td>4872</td>\n",
              "    </tr>\n",
              "    <tr>\n",
              "      <th>11</th>\n",
              "      <td>TF_binding_site</td>\n",
              "      <td>5271</td>\n",
              "      <td>5629</td>\n",
              "    </tr>\n",
              "    <tr>\n",
              "      <th>12</th>\n",
              "      <td>TF_binding_site</td>\n",
              "      <td>83022</td>\n",
              "      <td>83907</td>\n",
              "    </tr>\n",
              "    <tr>\n",
              "      <th>13</th>\n",
              "      <td>open_chromatin_region</td>\n",
              "      <td>100607</td>\n",
              "      <td>101088</td>\n",
              "    </tr>\n",
              "    <tr>\n",
              "      <th>14</th>\n",
              "      <td>open_chromatin_region</td>\n",
              "      <td>103424</td>\n",
              "      <td>103658</td>\n",
              "    </tr>\n",
              "    <tr>\n",
              "      <th>15</th>\n",
              "      <td>open_chromatin_region</td>\n",
              "      <td>107581</td>\n",
              "      <td>107848</td>\n",
              "    </tr>\n",
              "    <tr>\n",
              "      <th>16</th>\n",
              "      <td>open_chromatin_region</td>\n",
              "      <td>111176</td>\n",
              "      <td>111568</td>\n",
              "    </tr>\n",
              "    <tr>\n",
              "      <th>17</th>\n",
              "      <td>open_chromatin_region</td>\n",
              "      <td>120591</td>\n",
              "      <td>121126</td>\n",
              "    </tr>\n",
              "    <tr>\n",
              "      <th>18</th>\n",
              "      <td>open_chromatin_region</td>\n",
              "      <td>122024</td>\n",
              "      <td>122222</td>\n",
              "    </tr>\n",
              "    <tr>\n",
              "      <th>19</th>\n",
              "      <td>open_chromatin_region</td>\n",
              "      <td>126014</td>\n",
              "      <td>126245</td>\n",
              "    </tr>\n",
              "    <tr>\n",
              "      <th>20</th>\n",
              "      <td>open_chromatin_region</td>\n",
              "      <td>69085</td>\n",
              "      <td>69294</td>\n",
              "    </tr>\n",
              "    <tr>\n",
              "      <th>21</th>\n",
              "      <td>TF_binding_site</td>\n",
              "      <td>124229</td>\n",
              "      <td>125325</td>\n",
              "    </tr>\n",
              "    <tr>\n",
              "      <th>22</th>\n",
              "      <td>TF_binding_site</td>\n",
              "      <td>142984</td>\n",
              "      <td>143236</td>\n",
              "    </tr>\n",
              "    <tr>\n",
              "      <th>23</th>\n",
              "      <td>TF_binding_site</td>\n",
              "      <td>42872</td>\n",
              "      <td>43549</td>\n",
              "    </tr>\n",
              "    <tr>\n",
              "      <th>24</th>\n",
              "      <td>TF_binding_site</td>\n",
              "      <td>45773</td>\n",
              "      <td>45964</td>\n",
              "    </tr>\n",
              "    <tr>\n",
              "      <th>25</th>\n",
              "      <td>TF_binding_site</td>\n",
              "      <td>46025</td>\n",
              "      <td>46242</td>\n",
              "    </tr>\n",
              "    <tr>\n",
              "      <th>26</th>\n",
              "      <td>TF_binding_site</td>\n",
              "      <td>74830</td>\n",
              "      <td>75486</td>\n",
              "    </tr>\n",
              "    <tr>\n",
              "      <th>27</th>\n",
              "      <td>open_chromatin_region</td>\n",
              "      <td>100244</td>\n",
              "      <td>100529</td>\n",
              "    </tr>\n",
              "    <tr>\n",
              "      <th>28</th>\n",
              "      <td>open_chromatin_region</td>\n",
              "      <td>103335</td>\n",
              "      <td>104180</td>\n",
              "    </tr>\n",
              "    <tr>\n",
              "      <th>29</th>\n",
              "      <td>open_chromatin_region</td>\n",
              "      <td>105588</td>\n",
              "      <td>105765</td>\n",
              "    </tr>\n",
              "    <tr>\n",
              "      <th>...</th>\n",
              "      <td>...</td>\n",
              "      <td>...</td>\n",
              "      <td>...</td>\n",
              "    </tr>\n",
              "    <tr>\n",
              "      <th>675935</th>\n",
              "      <td>TF_binding_site</td>\n",
              "      <td>49046488</td>\n",
              "      <td>49047046</td>\n",
              "    </tr>\n",
              "    <tr>\n",
              "      <th>675936</th>\n",
              "      <td>TF_binding_site</td>\n",
              "      <td>49071917</td>\n",
              "      <td>49072131</td>\n",
              "    </tr>\n",
              "    <tr>\n",
              "      <th>675937</th>\n",
              "      <td>TF_binding_site</td>\n",
              "      <td>49084320</td>\n",
              "      <td>49084640</td>\n",
              "    </tr>\n",
              "    <tr>\n",
              "      <th>675938</th>\n",
              "      <td>TF_binding_site</td>\n",
              "      <td>49099492</td>\n",
              "      <td>49099916</td>\n",
              "    </tr>\n",
              "    <tr>\n",
              "      <th>675939</th>\n",
              "      <td>TF_binding_site</td>\n",
              "      <td>49208681</td>\n",
              "      <td>49209114</td>\n",
              "    </tr>\n",
              "    <tr>\n",
              "      <th>675940</th>\n",
              "      <td>TF_binding_site</td>\n",
              "      <td>49209743</td>\n",
              "      <td>49210144</td>\n",
              "    </tr>\n",
              "    <tr>\n",
              "      <th>675941</th>\n",
              "      <td>TF_binding_site</td>\n",
              "      <td>49568652</td>\n",
              "      <td>49569025</td>\n",
              "    </tr>\n",
              "    <tr>\n",
              "      <th>675942</th>\n",
              "      <td>TF_binding_site</td>\n",
              "      <td>49586936</td>\n",
              "      <td>49587253</td>\n",
              "    </tr>\n",
              "    <tr>\n",
              "      <th>675943</th>\n",
              "      <td>TF_binding_site</td>\n",
              "      <td>49785962</td>\n",
              "      <td>49786403</td>\n",
              "    </tr>\n",
              "    <tr>\n",
              "      <th>675944</th>\n",
              "      <td>TF_binding_site</td>\n",
              "      <td>49815676</td>\n",
              "      <td>49815935</td>\n",
              "    </tr>\n",
              "    <tr>\n",
              "      <th>675945</th>\n",
              "      <td>TF_binding_site</td>\n",
              "      <td>49915602</td>\n",
              "      <td>49915988</td>\n",
              "    </tr>\n",
              "    <tr>\n",
              "      <th>675946</th>\n",
              "      <td>TF_binding_site</td>\n",
              "      <td>50078847</td>\n",
              "      <td>50079086</td>\n",
              "    </tr>\n",
              "    <tr>\n",
              "      <th>675947</th>\n",
              "      <td>TF_binding_site</td>\n",
              "      <td>50117083</td>\n",
              "      <td>50117908</td>\n",
              "    </tr>\n",
              "    <tr>\n",
              "      <th>675948</th>\n",
              "      <td>TF_binding_site</td>\n",
              "      <td>50151447</td>\n",
              "      <td>50151785</td>\n",
              "    </tr>\n",
              "    <tr>\n",
              "      <th>675949</th>\n",
              "      <td>TF_binding_site</td>\n",
              "      <td>50206619</td>\n",
              "      <td>50207084</td>\n",
              "    </tr>\n",
              "    <tr>\n",
              "      <th>675950</th>\n",
              "      <td>TF_binding_site</td>\n",
              "      <td>50217483</td>\n",
              "      <td>50219973</td>\n",
              "    </tr>\n",
              "    <tr>\n",
              "      <th>675951</th>\n",
              "      <td>TF_binding_site</td>\n",
              "      <td>50221036</td>\n",
              "      <td>50221302</td>\n",
              "    </tr>\n",
              "    <tr>\n",
              "      <th>675952</th>\n",
              "      <td>TF_binding_site</td>\n",
              "      <td>50221372</td>\n",
              "      <td>50221766</td>\n",
              "    </tr>\n",
              "    <tr>\n",
              "      <th>675953</th>\n",
              "      <td>TF_binding_site</td>\n",
              "      <td>50318836</td>\n",
              "      <td>50319645</td>\n",
              "    </tr>\n",
              "    <tr>\n",
              "      <th>675954</th>\n",
              "      <td>TF_binding_site</td>\n",
              "      <td>50320267</td>\n",
              "      <td>50320494</td>\n",
              "    </tr>\n",
              "    <tr>\n",
              "      <th>675955</th>\n",
              "      <td>TF_binding_site</td>\n",
              "      <td>50440685</td>\n",
              "      <td>50441011</td>\n",
              "    </tr>\n",
              "    <tr>\n",
              "      <th>675956</th>\n",
              "      <td>TF_binding_site</td>\n",
              "      <td>50441315</td>\n",
              "      <td>50442518</td>\n",
              "    </tr>\n",
              "    <tr>\n",
              "      <th>675957</th>\n",
              "      <td>TF_binding_site</td>\n",
              "      <td>50456824</td>\n",
              "      <td>50457225</td>\n",
              "    </tr>\n",
              "    <tr>\n",
              "      <th>675958</th>\n",
              "      <td>TF_binding_site</td>\n",
              "      <td>50516105</td>\n",
              "      <td>50516346</td>\n",
              "    </tr>\n",
              "    <tr>\n",
              "      <th>675959</th>\n",
              "      <td>TF_binding_site</td>\n",
              "      <td>50568586</td>\n",
              "      <td>50569549</td>\n",
              "    </tr>\n",
              "    <tr>\n",
              "      <th>675960</th>\n",
              "      <td>TF_binding_site</td>\n",
              "      <td>50576032</td>\n",
              "      <td>50576491</td>\n",
              "    </tr>\n",
              "    <tr>\n",
              "      <th>675961</th>\n",
              "      <td>TF_binding_site</td>\n",
              "      <td>50699815</td>\n",
              "      <td>50700830</td>\n",
              "    </tr>\n",
              "    <tr>\n",
              "      <th>675962</th>\n",
              "      <td>TF_binding_site</td>\n",
              "      <td>50763142</td>\n",
              "      <td>50763421</td>\n",
              "    </tr>\n",
              "    <tr>\n",
              "      <th>675963</th>\n",
              "      <td>TF_binding_site</td>\n",
              "      <td>50775113</td>\n",
              "      <td>50775618</td>\n",
              "    </tr>\n",
              "    <tr>\n",
              "      <th>675964</th>\n",
              "      <td>TF_binding_site</td>\n",
              "      <td>50800828</td>\n",
              "      <td>50801431</td>\n",
              "    </tr>\n",
              "  </tbody>\n",
              "</table>\n",
              "<p>675965 rows × 3 columns</p>\n",
              "</div>"
            ],
            "text/plain": [
              "                            2         3         4\n",
              "0       open_chromatin_region    103826    104072\n",
              "1       open_chromatin_region    106256    106509\n",
              "2       open_chromatin_region    112834    113287\n",
              "3       open_chromatin_region    134012    134338\n",
              "4       open_chromatin_region    144218    144516\n",
              "5       open_chromatin_region    187509    187662\n",
              "6             TF_binding_site    137995    138389\n",
              "7             TF_binding_site    167431    167731\n",
              "8             TF_binding_site    167789    167870\n",
              "9             TF_binding_site    170088    170806\n",
              "10            TF_binding_site         2      4872\n",
              "11            TF_binding_site      5271      5629\n",
              "12            TF_binding_site     83022     83907\n",
              "13      open_chromatin_region    100607    101088\n",
              "14      open_chromatin_region    103424    103658\n",
              "15      open_chromatin_region    107581    107848\n",
              "16      open_chromatin_region    111176    111568\n",
              "17      open_chromatin_region    120591    121126\n",
              "18      open_chromatin_region    122024    122222\n",
              "19      open_chromatin_region    126014    126245\n",
              "20      open_chromatin_region     69085     69294\n",
              "21            TF_binding_site    124229    125325\n",
              "22            TF_binding_site    142984    143236\n",
              "23            TF_binding_site     42872     43549\n",
              "24            TF_binding_site     45773     45964\n",
              "25            TF_binding_site     46025     46242\n",
              "26            TF_binding_site     74830     75486\n",
              "27      open_chromatin_region    100244    100529\n",
              "28      open_chromatin_region    103335    104180\n",
              "29      open_chromatin_region    105588    105765\n",
              "...                       ...       ...       ...\n",
              "675935        TF_binding_site  49046488  49047046\n",
              "675936        TF_binding_site  49071917  49072131\n",
              "675937        TF_binding_site  49084320  49084640\n",
              "675938        TF_binding_site  49099492  49099916\n",
              "675939        TF_binding_site  49208681  49209114\n",
              "675940        TF_binding_site  49209743  49210144\n",
              "675941        TF_binding_site  49568652  49569025\n",
              "675942        TF_binding_site  49586936  49587253\n",
              "675943        TF_binding_site  49785962  49786403\n",
              "675944        TF_binding_site  49815676  49815935\n",
              "675945        TF_binding_site  49915602  49915988\n",
              "675946        TF_binding_site  50078847  50079086\n",
              "675947        TF_binding_site  50117083  50117908\n",
              "675948        TF_binding_site  50151447  50151785\n",
              "675949        TF_binding_site  50206619  50207084\n",
              "675950        TF_binding_site  50217483  50219973\n",
              "675951        TF_binding_site  50221036  50221302\n",
              "675952        TF_binding_site  50221372  50221766\n",
              "675953        TF_binding_site  50318836  50319645\n",
              "675954        TF_binding_site  50320267  50320494\n",
              "675955        TF_binding_site  50440685  50441011\n",
              "675956        TF_binding_site  50441315  50442518\n",
              "675957        TF_binding_site  50456824  50457225\n",
              "675958        TF_binding_site  50516105  50516346\n",
              "675959        TF_binding_site  50568586  50569549\n",
              "675960        TF_binding_site  50576032  50576491\n",
              "675961        TF_binding_site  50699815  50700830\n",
              "675962        TF_binding_site  50763142  50763421\n",
              "675963        TF_binding_site  50775113  50775618\n",
              "675964        TF_binding_site  50800828  50801431\n",
              "\n",
              "[675965 rows x 3 columns]"
            ]
          },
          "metadata": {
            "tags": []
          },
          "execution_count": 50
        }
      ]
    },
    {
      "cell_type": "code",
      "metadata": {
        "id": "5rtwvtCGmD24",
        "colab_type": "code",
        "outputId": "f72507a5-ffa2-472e-bf99-d49b1f826640",
        "colab": {
          "base_uri": "https://localhost:8080/",
          "height": 132
        }
      },
      "source": [
        "tfbs = BedTool('wgEncodeRegTfbsClusteredV3.bed')\n",
        "tss = BedTool('gencode.v19.TSS.notlow.gff')\n",
        "\n",
        "tfbs.head()\n",
        "sp = genes.closest(tss, d=True, stream=True)\n",
        "\n",
        "for gene in tfbs:\n",
        "    if int(gene[-1]) < 5000:\n",
        "        print gene.name "
      ],
      "execution_count": 0,
      "outputs": [
        {
          "output_type": "error",
          "ename": "SyntaxError",
          "evalue": "ignored",
          "traceback": [
            "\u001b[0;36m  File \u001b[0;32m\"<ipython-input-57-6d33159a99bb>\"\u001b[0;36m, line \u001b[0;32m9\u001b[0m\n\u001b[0;31m    print gene.name\u001b[0m\n\u001b[0m             ^\u001b[0m\n\u001b[0;31mSyntaxError\u001b[0m\u001b[0;31m:\u001b[0m Missing parentheses in call to 'print'. Did you mean print(gene.name)?\n"
          ]
        }
      ]
    },
    {
      "cell_type": "code",
      "metadata": {
        "id": "VU-hIEqU7mc4",
        "colab_type": "code",
        "colab": {}
      },
      "source": [
        "tfbs = BedTool('wgEncodeRegTfbsClusteredV3.bed')\n",
        "tss = BedTool('gencode.v19.TSS.notlow.gff')"
      ],
      "execution_count": 0,
      "outputs": []
    },
    {
      "cell_type": "code",
      "metadata": {
        "id": "L7X8gaiJlKVp",
        "colab_type": "code",
        "outputId": "ce3f5139-bc97-45cc-e4d1-d7881d81ed6f",
        "colab": {
          "base_uri": "https://localhost:8080/",
          "height": 212
        }
      },
      "source": [
        "tfbs.head()"
      ],
      "execution_count": 0,
      "outputs": [
        {
          "output_type": "stream",
          "text": [
            "chr1\t10073\t10329\tZBTB33\t354\t2\t204,246\t354,138\n",
            " chr1\t10149\t10413\tCEBPB\t201\t1\t343\t201\n",
            " chr1\t16110\t16390\tCTCF\t227\t7\t213,612,621,627,628,631,662\t110,139,171,209,227,200,170\n",
            " chr1\t29198\t29688\tTAF1\t184\t1\t157\t184\n",
            " chr1\t29275\t29591\tGABPA\t198\t1\t180\t198\n",
            " chr1\t89795\t90051\tUSF1\t185\t2\t68,202\t146,185\n",
            " chr1\t91156\t91580\tCTCF\t223\t9\t9,640,645,657,663,669,672,675,685\t183,223,138,115,115,145,141,144,220\n",
            " chr1\t104859\t105089\tCTCF\t106\t2\t48,49\t87,106\n",
            " chr1\t138850\t139274\tCTCF\t166\t3\t24,213,679\t166,125,127\n",
            " chr1\t235541\t235877\tSP1\t120\t1\t196\t120\n",
            " "
          ],
          "name": "stdout"
        }
      ]
    },
    {
      "cell_type": "code",
      "metadata": {
        "id": "ZuPZjsiE7rre",
        "colab_type": "code",
        "outputId": "341c916c-add6-40e1-b170-429e9794e3a1",
        "colab": {
          "base_uri": "https://localhost:8080/",
          "height": 232
        }
      },
      "source": [
        "tss.head()"
      ],
      "execution_count": 0,
      "outputs": [
        {
          "output_type": "stream",
          "text": [
            "chr10\tGencode\tCapSite\t100011780\t100011780\t.\t+\t.\tgene_id ENSG00000230928.1 trlist ENST00000433374.1, trbiotlist antisense, confidence not_low gene_biotype antisense\n",
            " chr10\tGencode\tCapSite\t100028007\t100028007\t.\t-\t.\tgene_id ENSG00000138131.3 trlist ENST00000260702.3, trbiotlist protein_coding, confidence not_low gene_biotype protein_coding\n",
            " chr10\tGencode\tCapSite\t100148193\t100148193\t.\t-\t.\tgene_id ENSG00000119943.6 trlist ENST00000464808.1, trbiotlist processed_transcript, confidence not_low gene_biotype protein_coding\n",
            " chr10\tGencode\tCapSite\t100155064\t100155064\t.\t-\t.\tgene_id ENSG00000221419.1 trlist ENST00000408492.1, trbiotlist miRNA, confidence not_low gene_biotype miRNA\n",
            " chr10\tGencode\tCapSite\t100171634\t100171634\t.\t-\t.\tgene_id ENSG00000119943.6 trlist ENST00000483923.1, trbiotlist processed_transcript, confidence not_low gene_biotype protein_coding\n",
            " chr10\tGencode\tCapSite\t100174815\t100174815\t.\t-\t.\tgene_id ENSG00000119943.6 trlist ENST00000494941.1, trbiotlist processed_transcript, confidence not_low gene_biotype protein_coding\n",
            " chr10\tGencode\tCapSite\t100174915\t100174915\t.\t-\t.\tgene_id ENSG00000119943.6 trlist ENST00000462874.1, trbiotlist processed_transcript, confidence not_low gene_biotype protein_coding\n",
            " chr10\tGencode\tCapSite\t100174941\t100174941\t.\t-\t.\tgene_id ENSG00000119943.6 trlist ENST00000370575.4, trbiotlist protein_coding, confidence not_low gene_biotype protein_coding\n",
            " chr10\tGencode\tCapSite\t100180126\t100180126\t.\t-\t.\tgene_id ENSG00000107521.14 trlist ENST00000462743.1, trbiotlist processed_transcript, confidence not_low gene_biotype protein_coding\n",
            " chr10\tGencode\tCapSite\t100185860\t100185860\t.\t-\t.\tgene_id ENSG00000107521.14 trlist ENST00000497527.1, trbiotlist processed_transcript, confidence not_low gene_biotype protein_coding\n",
            " "
          ],
          "name": "stdout"
        }
      ]
    },
    {
      "cell_type": "code",
      "metadata": {
        "id": "UFrdZRgR7vG_",
        "colab_type": "code",
        "outputId": "6f2b0dfc-3fb8-478d-f603-e710dbe37521",
        "colab": {
          "base_uri": "https://localhost:8080/",
          "height": 185
        }
      },
      "source": [
        "from os import path\n",
        "path.split(__file__)"
      ],
      "execution_count": 0,
      "outputs": [
        {
          "output_type": "error",
          "ename": "NameError",
          "evalue": "ignored",
          "traceback": [
            "\u001b[0;31m---------------------------------------------------------------------------\u001b[0m",
            "\u001b[0;31mNameError\u001b[0m                                 Traceback (most recent call last)",
            "\u001b[0;32m<ipython-input-62-9331ac1dface>\u001b[0m in \u001b[0;36m<module>\u001b[0;34m()\u001b[0m\n\u001b[1;32m      1\u001b[0m \u001b[0;32mfrom\u001b[0m \u001b[0mos\u001b[0m \u001b[0;32mimport\u001b[0m \u001b[0mpath\u001b[0m\u001b[0;34m\u001b[0m\u001b[0;34m\u001b[0m\u001b[0m\n\u001b[0;32m----> 2\u001b[0;31m \u001b[0mpath\u001b[0m\u001b[0;34m.\u001b[0m\u001b[0msplit\u001b[0m\u001b[0;34m(\u001b[0m\u001b[0m__file__\u001b[0m\u001b[0;34m)\u001b[0m\u001b[0;34m\u001b[0m\u001b[0;34m\u001b[0m\u001b[0m\n\u001b[0m",
            "\u001b[0;31mNameError\u001b[0m: name '__file__' is not defined"
          ]
        }
      ]
    },
    {
      "cell_type": "code",
      "metadata": {
        "id": "26t5sjjClF16",
        "colab_type": "code",
        "colab": {}
      },
      "source": [
        "!gunzip "
      ],
      "execution_count": 0,
      "outputs": []
    },
    {
      "cell_type": "code",
      "metadata": {
        "id": "I3yEHWZllDtn",
        "colab_type": "code",
        "colab": {
          "base_uri": "https://localhost:8080/",
          "height": 283
        },
        "outputId": "7a109134-660a-4004-b578-ac07d4107231"
      },
      "source": [
        "!wget ftp://ftp.ensembl.org/pub/release-96/mysql/homo_sapiens_funcgen_96_38/regulatory_activity.txt.gz"
      ],
      "execution_count": 65,
      "outputs": [
        {
          "output_type": "stream",
          "text": [
            "--2019-06-17 08:10:34--  ftp://ftp.ensembl.org/pub/release-96/mysql/homo_sapiens_funcgen_96_38/regulatory_activity.txt.gz\n",
            "           => ‘regulatory_activity.txt.gz’\n",
            "Resolving ftp.ensembl.org (ftp.ensembl.org)... 193.62.193.8\n",
            "Connecting to ftp.ensembl.org (ftp.ensembl.org)|193.62.193.8|:21... connected.\n",
            "Logging in as anonymous ... Logged in!\n",
            "==> SYST ... done.    ==> PWD ... done.\n",
            "==> TYPE I ... done.  ==> CWD (1) /pub/release-96/mysql/homo_sapiens_funcgen_96_38 ... done.\n",
            "==> SIZE regulatory_activity.txt.gz ... 408186654\n",
            "==> PASV ... done.    ==> RETR regulatory_activity.txt.gz ... done.\n",
            "Length: 408186654 (389M) (unauthoritative)\n",
            "\n",
            "regulatory_activity 100%[===================>] 389.28M  17.8MB/s    in 16s     \n",
            "\n",
            "2019-06-17 08:10:51 (24.1 MB/s) - ‘regulatory_activity.txt.gz’ saved [408186654]\n",
            "\n"
          ],
          "name": "stdout"
        }
      ]
    },
    {
      "cell_type": "code",
      "metadata": {
        "id": "zRgQc9J-fNl2",
        "colab_type": "code",
        "colab": {
          "base_uri": "https://localhost:8080/",
          "height": 194
        },
        "outputId": "d075b362-56ce-4379-870b-b8b41386771c"
      },
      "source": [
        "!zcat regulatory_activity.txt.gz | head"
      ],
      "execution_count": 67,
      "outputs": [
        {
          "output_type": "stream",
          "text": [
            "1\t1\tINACTIVE\t127\n",
            "2\t1\tINACTIVE\t186\n",
            "3\t1\tNA\t216\n",
            "4\t1\tINACTIVE\t192\n",
            "5\t1\tINACTIVE\t152\n",
            "6\t1\tNA\t213\n",
            "7\t1\tINACTIVE\t143\n",
            "8\t1\tNA\t158\n",
            "9\t1\tINACTIVE\t148\n",
            "10\t1\tINACTIVE\t161\n"
          ],
          "name": "stdout"
        }
      ]
    },
    {
      "cell_type": "code",
      "metadata": {
        "id": "38-n2izjlBj4",
        "colab_type": "code",
        "colab": {
          "base_uri": "https://localhost:8080/",
          "height": 283
        },
        "outputId": "13a6f3ab-a6fa-4ab4-eb71-7ff8aaa53edb"
      },
      "source": [
        "!wget ftp://ftp.ensembl.org/pub/release-96/mysql/homo_sapiens_funcgen_96_38/regulatory_feature.txt.gz\n",
        "  "
      ],
      "execution_count": 68,
      "outputs": [
        {
          "output_type": "stream",
          "text": [
            "--2019-06-17 08:14:40--  ftp://ftp.ensembl.org/pub/release-96/mysql/homo_sapiens_funcgen_96_38/regulatory_feature.txt.gz\n",
            "           => ‘regulatory_feature.txt.gz’\n",
            "Resolving ftp.ensembl.org (ftp.ensembl.org)... 193.62.193.8\n",
            "Connecting to ftp.ensembl.org (ftp.ensembl.org)|193.62.193.8|:21... connected.\n",
            "Logging in as anonymous ... Logged in!\n",
            "==> SYST ... done.    ==> PWD ... done.\n",
            "==> TYPE I ... done.  ==> CWD (1) /pub/release-96/mysql/homo_sapiens_funcgen_96_38 ... done.\n",
            "==> SIZE regulatory_feature.txt.gz ... 12775316\n",
            "==> PASV ... done.    ==> RETR regulatory_feature.txt.gz ... done.\n",
            "Length: 12775316 (12M) (unauthoritative)\n",
            "\n",
            "regulatory_feature. 100%[===================>]  12.18M  9.67MB/s    in 1.3s    \n",
            "\n",
            "2019-06-17 08:14:43 (9.67 MB/s) - ‘regulatory_feature.txt.gz’ saved [12775316]\n",
            "\n"
          ],
          "name": "stdout"
        }
      ]
    },
    {
      "cell_type": "code",
      "metadata": {
        "id": "j1gLqFrCgJzr",
        "colab_type": "code",
        "colab": {
          "base_uri": "https://localhost:8080/",
          "height": 194
        },
        "outputId": "4c48f01d-1782-47a4-d67f-56bce8e0382f"
      },
      "source": [
        "!zcat regulatory_feature.txt.gz| head"
      ],
      "execution_count": 69,
      "outputs": [
        {
          "output_type": "stream",
          "text": [
            "1\t179366\t131544\t0\t50704534\t50704913\tENSR00000403624\t118\t147\t1\t1\n",
            "2\t179365\t131545\t0\t40317801\t40318000\tENSR00000603328\t0\t0\t2\t1\n",
            "3\t179366\t131554\t0\t61718084\t61718891\tENSR00000560764\t0\t0\t0\t1\n",
            "4\t179365\t131547\t0\t34416201\t34416400\tENSR00000494628\t0\t0\t2\t1\n",
            "5\t179365\t131548\t0\t46171401\t46171600\tENSR00000574868\t0\t0\t2\t1\n",
            "6\t179365\t131558\t0\t26148601\t26149000\tENSR00000510348\t0\t0\t2\t1\n",
            "7\t179362\t131540\t0\t94725800\t94727801\tENSR00000238156\t798\t598\t0\t1\n",
            "8\t179365\t131551\t0\t184037801\t184038600\tENSR00000307807\t0\t0\t18\t1\n",
            "9\t179365\t131544\t0\t80453201\t80454600\tENSR00000409801\t0\t0\t15\t1\n",
            "10\t179363\t131560\t0\t130409202\t130413399\tENSR00000870059\t0\t0\t6\t1\n"
          ],
          "name": "stdout"
        }
      ]
    },
    {
      "cell_type": "code",
      "metadata": {
        "id": "2AmGraSIgO_A",
        "colab_type": "code",
        "colab": {
          "base_uri": "https://localhost:8080/",
          "height": 283
        },
        "outputId": "ed925c27-525a-444f-ca24-f8c4db6929b2"
      },
      "source": [
        "!wget ftp://ftp.ensembl.org/pub/release-96/mysql/homo_sapiens_funcgen_96_38/motif_feature_regulatory_feature.txt.gz\n",
        "  "
      ],
      "execution_count": 70,
      "outputs": [
        {
          "output_type": "stream",
          "text": [
            "--2019-06-17 08:17:58--  ftp://ftp.ensembl.org/pub/release-96/mysql/homo_sapiens_funcgen_96_38/motif_feature_regulatory_feature.txt.gz\n",
            "           => ‘motif_feature_regulatory_feature.txt.gz’\n",
            "Resolving ftp.ensembl.org (ftp.ensembl.org)... 193.62.193.8\n",
            "Connecting to ftp.ensembl.org (ftp.ensembl.org)|193.62.193.8|:21... connected.\n",
            "Logging in as anonymous ... Logged in!\n",
            "==> SYST ... done.    ==> PWD ... done.\n",
            "==> TYPE I ... done.  ==> CWD (1) /pub/release-96/mysql/homo_sapiens_funcgen_96_38 ... done.\n",
            "==> SIZE motif_feature_regulatory_feature.txt.gz ... 3895929561\n",
            "==> PASV ... done.    ==> RETR motif_feature_regulatory_feature.txt.gz ... done.\n",
            "Length: 3895929561 (3.6G) (unauthoritative)\n",
            "\n",
            "motif_feature_regul 100%[===================>]   3.63G  24.1MB/s    in 2m 22s  \n",
            "\n",
            "2019-06-17 08:20:22 (26.1 MB/s) - ‘motif_feature_regulatory_feature.txt.gz’ saved [3895929561]\n",
            "\n"
          ],
          "name": "stdout"
        }
      ]
    },
    {
      "cell_type": "code",
      "metadata": {
        "id": "-l2GvA4Tg5-V",
        "colab_type": "code",
        "colab": {}
      },
      "source": [
        ""
      ],
      "execution_count": 0,
      "outputs": []
    },
    {
      "cell_type": "code",
      "metadata": {
        "id": "ReXgMO4Ak_wm",
        "colab_type": "code",
        "colab": {}
      },
      "source": [
        ""
      ],
      "execution_count": 0,
      "outputs": []
    },
    {
      "cell_type": "code",
      "metadata": {
        "id": "tXi8KfS_cIYn",
        "colab_type": "code",
        "colab": {}
      },
      "source": [
        ""
      ],
      "execution_count": 0,
      "outputs": []
    },
    {
      "cell_type": "code",
      "metadata": {
        "id": "3gRaZJCJaNMG",
        "colab_type": "code",
        "colab": {}
      },
      "source": [
        ""
      ],
      "execution_count": 0,
      "outputs": []
    },
    {
      "cell_type": "code",
      "metadata": {
        "id": "q7o829JLZ03-",
        "colab_type": "code",
        "colab": {}
      },
      "source": [
        ""
      ],
      "execution_count": 0,
      "outputs": []
    },
    {
      "cell_type": "code",
      "metadata": {
        "id": "MqBsqzReZoGj",
        "colab_type": "code",
        "colab": {}
      },
      "source": [
        ""
      ],
      "execution_count": 0,
      "outputs": []
    },
    {
      "cell_type": "code",
      "metadata": {
        "id": "PcTV-5-IZdoB",
        "colab_type": "code",
        "colab": {}
      },
      "source": [
        ""
      ],
      "execution_count": 0,
      "outputs": []
    }
  ]
}